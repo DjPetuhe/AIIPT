{
 "cells": [
  {
   "attachments": {},
   "cell_type": "markdown",
   "metadata": {},
   "source": [
    "# Лабораторна робота №2\n",
    "---\n",
    "## Виконав студент: Хернуф Валід\n",
    "## Група: ІП-01"
   ]
  },
  {
   "cell_type": "code",
   "execution_count": 6,
   "metadata": {},
   "outputs": [
    {
     "name": "stdout",
     "output_type": "stream",
     "text": [
      "4.7.0\n"
     ]
    }
   ],
   "source": [
    "import cv2\n",
    "import numpy as np \n",
    "print(cv2.__version__)"
   ]
  },
  {
   "cell_type": "code",
   "execution_count": 13,
   "metadata": {},
   "outputs": [
    {
     "name": "stdout",
     "output_type": "stream",
     "text": [
      "Found 3 faces!\n"
     ]
    }
   ],
   "source": [
    "face_cascade = cv2.CascadeClassifier(cv2.data.haarcascades + \"haarcascade_frontalface_default.xml\")\n",
    "smile_cascade = cv2.CascadeClassifier(cv2.data.haarcascades + \"haarcascade_smile.xml\")\n",
    "eye_cascade = cv2.CascadeClassifier(cv2.data.haarcascades + \"haarcascade_eye.xml\")\n",
    "\n",
    "frame = cv2.imread(\"minecraftDevs.jpg\")\n",
    "\n",
    "gray_filter = cv2.cvtColor(frame, cv2.COLOR_BGR2GRAY)\n",
    "\n",
    "face_rects = face_cascade.detectMultiScale(gray_filter, scaleFactor=1.1, minNeighbors=5)\n",
    "\n",
    "for (x, y, w, h) in face_rects:\n",
    "    cv2.rectangle(frame, (x, y), (x + w, y + h), (0, 0, 255), 3)\n",
    "    roi_gray = gray_filter[y:y+h, x:x+w]\n",
    "    roi_color = frame[y:y+h, x:x+w]\n",
    "    smile = smile_cascade.detectMultiScale(roi_gray, scaleFactor=1.1, minNeighbors=10)\n",
    "    eye = eye_cascade.detectMultiScale(roi_gray, scaleFactor=1.15, minNeighbors=5)\n",
    "\n",
    "    for (sx, sy, sw, sh) in smile:\n",
    "        cv2.rectangle(roi_color, (sx, sy), (sx + sw, sy + sh), (0, 255, 0), 1)\n",
    "    for (ex, ey, ew, eh) in eye:\n",
    "        cv2.rectangle(roi_color, (ex, ey), (ex + ew, ey + eh), (255, 0, 0), 1)\n",
    "\n",
    "print(f\"Found {len(face_rects)} faces!\")\n",
    "cv2.imshow(\"Example\", frame)\n",
    "cv2.waitKey()\n",
    "cv2.destroyAllWindows()"
   ]
  },
  {
   "cell_type": "code",
   "execution_count": 8,
   "metadata": {},
   "outputs": [],
   "source": [
    "cv2.startWindowThread()\n",
    "cap = cv2.VideoCapture(\"vsauce.mp4\")\n",
    "\n",
    "while True:\n",
    "    ret, frame = cap.read()\n",
    "    frame = cv2.resize(frame, (800, 560))\n",
    "    gray_filter = cv2.cvtColor(frame, cv2.COLOR_RGB2GRAY)\n",
    "    face_rects = face_cascade.detectMultiScale(gray_filter, scaleFactor=1.3, minNeighbors=5)\n",
    "    for (x, y, w, h) in face_rects:\n",
    "        cv2.rectangle(frame, (x, y), (x + w, y + h), (0, 0, 255), 3)\n",
    "    cv2.imshow(\"Video\", frame)\n",
    "    if (cv2.waitKey(1) & 0XFF==ord(\"q\")):\n",
    "        break\n",
    "\n",
    "cap.release()\n",
    "cv2.destroyAllWindows()"
   ]
  },
  {
   "cell_type": "code",
   "execution_count": 12,
   "metadata": {},
   "outputs": [],
   "source": [
    "hog = cv2.HOGDescriptor()\n",
    "hog.setSVMDetector(cv2.HOGDescriptor_getDefaultPeopleDetector())\n",
    "\n",
    "cv2.startWindowThread()\n",
    "\n",
    "cap = cv2.VideoCapture(\"londonPeople.mp4\")\n",
    "\n",
    "while True:\n",
    "    ret, frame = cap.read()\n",
    "    frame = cv2.resize(frame, (800, 560))\n",
    "    gray_filter = cv2.cvtColor(frame, cv2.COLOR_RGB2GRAY)\n",
    "    face_rects = face_cascade.detectMultiScale(gray_filter, scaleFactor=1.1, minNeighbors=5)\n",
    "    boxes, weights = hog.detectMultiScale(frame, winStride=(8, 8))\n",
    "    boxes = np.array([[x, y, x + w, y + h] for (x, y, w, h) in boxes])\n",
    "    for (xa, ya, xb, yb) in boxes:\n",
    "        cv2.rectangle(frame, (xa, ya), (xb, yb), (0, 255, 255), 1)\n",
    "    for (x, y, w, h) in face_rects:\n",
    "        cv2.rectangle(frame, (x, y), (x + w, y + h), (0, 0, 255), 3)\n",
    "    cv2.imshow(\"Video\", frame)\n",
    "    if (cv2.waitKey(1) & 0XFF==ord(\"q\")):\n",
    "        break\n",
    "\n",
    "cap.release()\n",
    "cv2.destroyAllWindows()"
   ]
  }
 ],
 "metadata": {
  "kernelspec": {
   "display_name": "Python 3",
   "language": "python",
   "name": "python3"
  },
  "language_info": {
   "codemirror_mode": {
    "name": "ipython",
    "version": 3
   },
   "file_extension": ".py",
   "mimetype": "text/x-python",
   "name": "python",
   "nbconvert_exporter": "python",
   "pygments_lexer": "ipython3",
   "version": "3.11.2"
  },
  "orig_nbformat": 4,
  "vscode": {
   "interpreter": {
    "hash": "d80cffe7d8da1bc49f8b35d23ecbed5686b0d96bce0cf718e436512b6dca9e36"
   }
  }
 },
 "nbformat": 4,
 "nbformat_minor": 2
}
