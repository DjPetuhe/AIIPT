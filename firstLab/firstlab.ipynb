{
 "cells": [
  {
   "attachments": {},
   "cell_type": "markdown",
   "metadata": {},
   "source": [
    "# Лабораторна робота №1\n",
    "---\n",
    "## Виконав студент: Хернуф Валід\n",
    "## Група: ІП-01"
   ]
  },
  {
   "attachments": {},
   "cell_type": "markdown",
   "metadata": {},
   "source": [
    "1. Перевірка наявності пакету opencv-python"
   ]
  },
  {
   "cell_type": "code",
   "execution_count": 35,
   "metadata": {},
   "outputs": [
    {
     "name": "stdout",
     "output_type": "stream",
     "text": [
      "4.7.0\n"
     ]
    }
   ],
   "source": [
    "import cv2\n",
    "import imutils\n",
    "import numpy as np \n",
    "print(cv2.__version__)"
   ]
  },
  {
   "attachments": {},
   "cell_type": "markdown",
   "metadata": {},
   "source": [
    "2. Читання та виведення зображення"
   ]
  },
  {
   "cell_type": "code",
   "execution_count": 36,
   "metadata": {},
   "outputs": [],
   "source": [
    "def showImage(name, img):\n",
    "    cv2.imshow(name, img)\n",
    "    cv2.waitKey()\n",
    "    cv2.destroyAllWindows()\n",
    "\n",
    "img = cv2.imread(\"amogus.jpg\")\n",
    "showImage(\"Amogus drip\", img)"
   ]
  },
  {
   "attachments": {},
   "cell_type": "markdown",
   "metadata": {},
   "source": [
    "3. Збереження зображення"
   ]
  },
  {
   "cell_type": "code",
   "execution_count": 37,
   "metadata": {},
   "outputs": [],
   "source": [
    "img2 = cv2.imread(\"amogus.jpg\", 0)\n",
    "cv2.imwrite(\"amogusGray.jpg\", img2)\n",
    "img2 = cv2.imread(\"amogusGray.jpg\")\n",
    "showImage(\"Saved drip\", img2)\n"
   ]
  },
  {
   "attachments": {},
   "cell_type": "markdown",
   "metadata": {},
   "source": [
    "4. Доступ до окремих пікселів\n",
    "   "
   ]
  },
  {
   "cell_type": "code",
   "execution_count": 38,
   "metadata": {},
   "outputs": [
    {
     "name": "stdout",
     "output_type": "stream",
     "text": [
      "red = 32, green = 32, blue = 42\n"
     ]
    }
   ],
   "source": [
    "(blue, green, red) = img[10, 10]\n",
    "print(f\"{red = }, {green = }, {blue = }\")"
   ]
  },
  {
   "attachments": {},
   "cell_type": "markdown",
   "metadata": {},
   "source": [
    "5. Вирізання зображення"
   ]
  },
  {
   "cell_type": "code",
   "execution_count": 39,
   "metadata": {},
   "outputs": [],
   "source": [
    "img3 = cv2.imread(\"archidog.jpg\")\n",
    "showImage(\"My dog\", img3)\n",
    "\n",
    "clippedImg3 = img3[150:500, 150:500]\n",
    "showImage(\"My clipped dog\", clippedImg3)"
   ]
  },
  {
   "attachments": {},
   "cell_type": "markdown",
   "metadata": {},
   "source": [
    "6. Зміна розміру зображення"
   ]
  },
  {
   "cell_type": "code",
   "execution_count": 40,
   "metadata": {},
   "outputs": [],
   "source": [
    "h, w = img.shape[0:2]\n",
    "h_new = 200\n",
    "ratio = w / h\n",
    "w_new = int(h_new * ratio)\n",
    "resized = cv2.resize(img, (w_new, h_new))\n",
    "showImage(\"Resized drip\",resized)"
   ]
  },
  {
   "cell_type": "code",
   "execution_count": 41,
   "metadata": {},
   "outputs": [],
   "source": [
    "resized2 = imutils.resize(img, width=200)\n",
    "showImage(\"Imutils resized drip\", resized2)"
   ]
  },
  {
   "attachments": {},
   "cell_type": "markdown",
   "metadata": {},
   "source": [
    "7. Поворот зображення"
   ]
  },
  {
   "cell_type": "code",
   "execution_count": 42,
   "metadata": {},
   "outputs": [],
   "source": [
    "center = (w // 2, h // 2)\n",
    "M = cv2.getRotationMatrix2D(center, -45, 1.0)\n",
    "rotated = cv2.warpAffine(img, M, (w, h))\n",
    "showImage(\"Rotated drip\", rotated)"
   ]
  },
  {
   "cell_type": "code",
   "execution_count": 43,
   "metadata": {},
   "outputs": [],
   "source": [
    "rotated2 = imutils.rotate(img, -45)\n",
    "showImage(\"Imutils rotated drip\", rotated2)"
   ]
  },
  {
   "attachments": {},
   "cell_type": "markdown",
   "metadata": {},
   "source": [
    "8. Розмивання зображення"
   ]
  },
  {
   "cell_type": "code",
   "execution_count": 44,
   "metadata": {},
   "outputs": [],
   "source": [
    "blurred = cv2.GaussianBlur(img3, (51, 51), 0)\n",
    "summing = np.hstack((img3, blurred))\n",
    "showImage(\"Blurred dog\", summing)"
   ]
  },
  {
   "attachments": {},
   "cell_type": "markdown",
   "metadata": {},
   "source": [
    "9. Малювання прямокутника"
   ]
  },
  {
   "cell_type": "code",
   "execution_count": 45,
   "metadata": {},
   "outputs": [],
   "source": [
    "rectangle = cv2.rectangle(img3, (150, 150), (500, 500), (0, 0, 255), 2)\n",
    "showImage(\"Rectange dog\", rectangle)"
   ]
  },
  {
   "attachments": {},
   "cell_type": "markdown",
   "metadata": {},
   "source": [
    "10. Малювання лінії"
   ]
  },
  {
   "cell_type": "code",
   "execution_count": 56,
   "metadata": {},
   "outputs": [],
   "source": [
    "imgLine = cv2.imread(\"archidog.jpg\")\n",
    "cv2.line(imgLine, (100, 100), (500, 500), (0, 0, 255), 10)\n",
    "showImage(\"Line\", imgLine)"
   ]
  },
  {
   "attachments": {},
   "cell_type": "markdown",
   "metadata": {},
   "source": [
    "11. Малювання ліній за точками"
   ]
  },
  {
   "cell_type": "code",
   "execution_count": 61,
   "metadata": {},
   "outputs": [],
   "source": [
    "imgTriangle = cv2.imread(\"archidog.jpg\")\n",
    "points = np.array([[200, 200], [500, 200], [200, 500], [200, 200]])\n",
    "cv2.polylines(imgTriangle, np.int32([points]), 1, (0, 0, 255), 10)\n",
    "showImage(\"Triangle\", imgTriangle)"
   ]
  },
  {
   "attachments": {},
   "cell_type": "markdown",
   "metadata": {},
   "source": [
    "12. Малювання кола"
   ]
  },
  {
   "cell_type": "code",
   "execution_count": 66,
   "metadata": {},
   "outputs": [],
   "source": [
    "imgCircle = cv2.imread(\"archidog.jpg\")\n",
    "cv2.circle(imgCircle, (325, 325), 200, (0, 0, 255), 10)\n",
    "showImage(\"Circle\", imgCircle)"
   ]
  },
  {
   "attachments": {},
   "cell_type": "markdown",
   "metadata": {},
   "source": [
    "13. Малювання тексту"
   ]
  },
  {
   "cell_type": "code",
   "execution_count": 49,
   "metadata": {},
   "outputs": [],
   "source": [
    "imgText = cv2.imread(\"archidog.jpg\")\n",
    "text = cv2.FONT_HERSHEY_SCRIPT_COMPLEX\n",
    "cv2.putText(\n",
    "    imgText, \"Hello world!\", (20, 100), text, 3, (255, 255, 255), 3, cv2.LINE_4\n",
    ")\n",
    "showImage(\"Text\", imgText)"
   ]
  }
 ],
 "metadata": {
  "kernelspec": {
   "display_name": "Python 3",
   "language": "python",
   "name": "python3"
  },
  "language_info": {
   "codemirror_mode": {
    "name": "ipython",
    "version": 3
   },
   "file_extension": ".py",
   "mimetype": "text/x-python",
   "name": "python",
   "nbconvert_exporter": "python",
   "pygments_lexer": "ipython3",
   "version": "3.11.2"
  },
  "orig_nbformat": 4,
  "vscode": {
   "interpreter": {
    "hash": "d80cffe7d8da1bc49f8b35d23ecbed5686b0d96bce0cf718e436512b6dca9e36"
   }
  }
 },
 "nbformat": 4,
 "nbformat_minor": 2
}
