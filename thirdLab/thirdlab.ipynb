{
 "cells": [
  {
   "cell_type": "code",
   "execution_count": 158,
   "metadata": {},
   "outputs": [
    {
     "name": "stdout",
     "output_type": "stream",
     "text": [
      "4.7.0\n"
     ]
    }
   ],
   "source": [
    "import cv2\n",
    "import numpy as np \n",
    "print(cv2.__version__)"
   ]
  },
  {
   "cell_type": "code",
   "execution_count": 159,
   "metadata": {},
   "outputs": [],
   "source": [
    "def showImage(name, img):\n",
    "    cv2.imshow(name, img)\n",
    "    cv2.waitKey()\n",
    "    cv2.destroyAllWindows()"
   ]
  },
  {
   "cell_type": "code",
   "execution_count": 160,
   "metadata": {},
   "outputs": [],
   "source": [
    "img = cv2.imread(\"road2.jpg\")\n",
    "grayScale = cv2.cvtColor(img, cv2.COLOR_BGR2GRAY)\n",
    "\n",
    "showImage(\"image\", grayScale)"
   ]
  },
  {
   "cell_type": "code",
   "execution_count": 161,
   "metadata": {},
   "outputs": [],
   "source": [
    "kernel_size = 5\n",
    "blur = cv2.GaussianBlur(grayScale, (kernel_size, kernel_size), 0)\n",
    "\n",
    "showImage(\"blur image\", blur)"
   ]
  },
  {
   "cell_type": "code",
   "execution_count": null,
   "metadata": {},
   "outputs": [],
   "source": [
    "low_t = 50\n",
    "high_t = 150\n",
    "edges = cv2.Canny(blur, low_t, high_t)\n",
    "\n",
    "showImage(\"edges image\", edges)"
   ]
  },
  {
   "cell_type": "code",
   "execution_count": null,
   "metadata": {},
   "outputs": [],
   "source": [
    "vertices = np.array(\n",
    "    [[(0, img.shape[0]), (450, 310), (490, 310),\n",
    "    (img.shape[1], img.shape[0])]], dtype=np.int32\n",
    ")\n",
    "mask = np.zeros_like(edges)\n",
    "cv2.fillPoly(mask, vertices, 255)\n",
    "showImage(\"mask image\", mask)"
   ]
  },
  {
   "cell_type": "code",
   "execution_count": null,
   "metadata": {},
   "outputs": [],
   "source": [
    "masked_edges = cv2.bitwise_and(edges, mask)\n",
    "showImage(\"masked_edges image\", masked_edges)"
   ]
  },
  {
   "cell_type": "code",
   "execution_count": null,
   "metadata": {},
   "outputs": [],
   "source": [
    "def draw_lines(frame, lines, color=[0, 0, 255], thickness=10):\n",
    "    x_bottom_pos = []\n",
    "    x_upper_pos = []\n",
    "    x_bottom_neg = []\n",
    "    x_upper_neg = []\n",
    "    y_bottom = 540\n",
    "    y_upper = 315\n",
    "    for line in lines:\n",
    "        for x1, y1, x2, y2 in line:\n",
    "            slope = ((y2 - y1) / (x2 - x1))\n",
    "            b = y1 - slope * x1\n",
    "            if slope > 0.5 and slope < 0.8:\n",
    "                x_bottom_pos.append((y_bottom - b) / slope)\n",
    "                x_upper_pos.append((y_upper - b) / slope)\n",
    "            elif slope < -0.5 and slope > -0.8:\n",
    "                x_bottom_neg.append((y_bottom - b) / slope)\n",
    "                x_upper_neg.append((y_upper - b) / slope)\n",
    "    if len(x_bottom_pos) > 0 and len(x_bottom_neg) > 0:\n",
    "        lines_mean = np.array(\n",
    "            [[int(np.mean(x_bottom_pos)), int(np.mean(y_bottom)),\n",
    "            int(np.mean(x_upper_pos)), int(np.mean(y_upper))],\n",
    "            [int(np.mean(x_bottom_neg)), int(np.mean(y_bottom)),\n",
    "            int(np.mean(x_upper_neg)), int(np.mean(y_upper))]])\n",
    "        for i in range(len(lines_mean)):\n",
    "            cv2.line(frame, (lines_mean[i, 0], lines_mean[i, 1]),\n",
    "                    (lines_mean[i, 2], lines_mean[i, 3]), color, thickness)"
   ]
  },
  {
   "cell_type": "code",
   "execution_count": null,
   "metadata": {},
   "outputs": [],
   "source": [
    "def process_image(frame):\n",
    "    vertices = np.array(\n",
    "        [[(0, frame.shape[0]),\n",
    "        (450, 310),\n",
    "        (490, 310),\n",
    "        (frame.shape[1], frame.shape[0])]],\n",
    "        dtype=np.int32)\n",
    "    grayScale = cv2.cvtColor(frame, cv2.COLOR_BGR2GRAY)\n",
    "    blur = cv2.GaussianBlur(grayScale, (5, 5), 0)\n",
    "    edges = cv2.Canny(blur, 50, 150)\n",
    "    mask = np.zeros_like(edges)\n",
    "    cv2.fillPoly(mask, vertices, 255)\n",
    "    masked_edges = cv2.bitwise_and(edges, mask)\n",
    "    lines = cv2.HoughLinesP(\n",
    "        masked_edges, 3, np.pi / 180, 15,\n",
    "        np.array([]),\n",
    "        minLineLength=100,\n",
    "        maxLineGap=70)\n",
    "    draw_lines(frame, lines)\n",
    "    \n",
    "    "
   ]
  },
  {
   "cell_type": "code",
   "execution_count": null,
   "metadata": {},
   "outputs": [],
   "source": [
    "cv2.startWindowThread()\n",
    "\n",
    "video_capture = cv2.VideoCapture(\"road.mp4\")\n",
    "\n",
    "while video_capture.isOpened():\n",
    "    ret, frame = video_capture.read()\n",
    "    if ret:\n",
    "        process_image(frame)\n",
    "        cv2.imshow(\"frame\", frame)\n",
    "        if cv2.waitKey(1) & 0xFF == ord(\"q\"):\n",
    "            break\n",
    "    else:\n",
    "        break\n",
    "\n",
    "video_capture.release()\n",
    "cv2.destroyAllWindows()"
   ]
  }
 ],
 "metadata": {
  "kernelspec": {
   "display_name": "Python 3",
   "language": "python",
   "name": "python3"
  },
  "language_info": {
   "codemirror_mode": {
    "name": "ipython",
    "version": 3
   },
   "file_extension": ".py",
   "mimetype": "text/x-python",
   "name": "python",
   "nbconvert_exporter": "python",
   "pygments_lexer": "ipython3",
   "version": "3.11.2"
  },
  "orig_nbformat": 4
 },
 "nbformat": 4,
 "nbformat_minor": 2
}
